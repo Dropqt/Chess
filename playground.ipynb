{
 "cells": [
  {
   "cell_type": "code",
   "execution_count": 4,
   "metadata": {},
   "outputs": [
    {
     "name": "stdout",
     "output_type": "stream",
     "text": [
      "6\n",
      "5\n",
      "4\n",
      "3\n",
      "2\n",
      "1\n",
      "0\n"
     ]
    }
   ],
   "source": [
    "for i in range(7-1,-1,-1):\n",
    "    print(i)"
   ]
  },
  {
   "cell_type": "code",
   "execution_count": 10,
   "metadata": {},
   "outputs": [
    {
     "ename": "KeyError",
     "evalue": "10",
     "output_type": "error",
     "traceback": [
      "\u001b[1;31m---------------------------------------------------------------------------\u001b[0m",
      "\u001b[1;31mKeyError\u001b[0m                                  Traceback (most recent call last)",
      "Cell \u001b[1;32mIn[10], line 2\u001b[0m\n\u001b[0;32m      1\u001b[0m a\u001b[39m=\u001b[39m{\u001b[39m1\u001b[39m:\u001b[39m5\u001b[39m,\u001b[39m2\u001b[39m:\u001b[39m3\u001b[39m,\u001b[39m7\u001b[39m:\u001b[39m4\u001b[39m,\u001b[39m2\u001b[39m:\u001b[39m0\u001b[39m}\n\u001b[1;32m----> 2\u001b[0m \u001b[39mprint\u001b[39m(a[\u001b[39m10\u001b[39;49m])\n",
      "\u001b[1;31mKeyError\u001b[0m: 10"
     ]
    }
   ],
   "source": [
    "a={1:5,2:3,7:4,2:0}\n",
    "print(a[10])"
   ]
  },
  {
   "cell_type": "code",
   "execution_count": 27,
   "metadata": {},
   "outputs": [
    {
     "name": "stdout",
     "output_type": "stream",
     "text": [
      "3 5\n",
      "first if triggered\n",
      "3 4\n",
      "else triggered\n",
      "3 3\n",
      "else triggered\n",
      "3 3\n",
      "else triggered\n",
      "4 [4, 3, 3, 5]\n"
     ]
    }
   ],
   "source": [
    "class Solution:\n",
    "    def numRescueBoats( people:list , limit:int):\n",
    "        res=0\n",
    "        left=0\n",
    "        right=len(people)-1\n",
    "        people.sort()\n",
    "        db=[]\n",
    "        while left<=right:\n",
    "            print(people[left],people[right])\n",
    "            if people[right]== limit:\n",
    "                #print(res,right)\n",
    "                res+=1\n",
    "                right-=1\n",
    "                db.append(people[right])\n",
    "                print('first if triggered')\n",
    "            elif people[left]+people[right] <= limit:\n",
    "                res+=1\n",
    "                left+=1\n",
    "                right-=1\n",
    "                db.append([people[left],people[right]])\n",
    "                print('if trigerred')\n",
    "            else:\n",
    "                res+=1\n",
    "                right-=1\n",
    "                db.append(people[right])\n",
    "                print('else triggered')\n",
    "        print(res,db)\n",
    "    numRescueBoats([3,5,3,4],5)\n"
   ]
  },
  {
   "cell_type": "code",
   "execution_count": 41,
   "metadata": {},
   "outputs": [
    {
     "name": "stdout",
     "output_type": "stream",
     "text": [
      "9 end\n"
     ]
    }
   ],
   "source": [
    "class Solution:\n",
    "    def zeroFilledSubarray(nums):\n",
    "        left=0\n",
    "        counter=0\n",
    "        res=0\n",
    "        for i in nums:\n",
    "            if i ==0:\n",
    "                counter+=1\n",
    "            else:\n",
    "                if counter!=0:\n",
    "                    while counter >0:\n",
    "                        res+=counter\n",
    "                        counter-=1\n",
    "        if counter!=0:\n",
    "            while counter>0:\n",
    "                res+=counter\n",
    "                counter-=1\n",
    "        print(res,'end')\n",
    "    zeroFilledSubarray([0,0,0,2,0,0])"
   ]
  },
  {
   "cell_type": "code",
   "execution_count": 57,
   "metadata": {},
   "outputs": [
    {
     "name": "stdout",
     "output_type": "stream",
     "text": [
      "Pair\n",
      "high card\n"
     ]
    }
   ],
   "source": [
    "class Solution:\n",
    "    def bestHand(ranks, suits):\n",
    "        db_ranks={}\n",
    "        db_suits={}\n",
    "        for i in range(len(ranks)):\n",
    "            if ranks[i] not in db_ranks.keys():\n",
    "                db_ranks[ranks[i]]=1\n",
    "            else:\n",
    "                db_ranks[ranks[i]]= db_ranks[ranks[i]]+1\n",
    "            if suits[i] not in db_suits.keys():\n",
    "                db_suits[suits[i]]= 1\n",
    "            else:\n",
    "                db_suits[suits[i]]= db_suits[suits[i]]+1\n",
    "                \n",
    "        #print(db_ranks,db_suits.values())\n",
    "        if 5 in db_suits.values():\n",
    "            print('Flush')\n",
    "        if 3 in db_ranks.values() or 4 in db_ranks.values():\n",
    "            print('Three of a Kind')\n",
    "        if 2 in db_ranks.values():\n",
    "            print('Pair')\n",
    "        print('high card')\n",
    "    bestHand([10,10,2,12,9],[\"a\",\"b\",\"c\",\"a\",\"d\"])"
   ]
  }
 ],
 "metadata": {
  "kernelspec": {
   "display_name": "Python 3",
   "language": "python",
   "name": "python3"
  },
  "language_info": {
   "codemirror_mode": {
    "name": "ipython",
    "version": 3
   },
   "file_extension": ".py",
   "mimetype": "text/x-python",
   "name": "python",
   "nbconvert_exporter": "python",
   "pygments_lexer": "ipython3",
   "version": "3.11.0"
  },
  "orig_nbformat": 4,
  "vscode": {
   "interpreter": {
    "hash": "bf9363b1933d6e3e3f4fdd3dc4d353933e361c1e448f53ad1aa282d16c81c7fa"
   }
  }
 },
 "nbformat": 4,
 "nbformat_minor": 2
}
