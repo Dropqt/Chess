{
 "cells": [
  {
   "cell_type": "code",
   "execution_count": 4,
   "metadata": {},
   "outputs": [
    {
     "name": "stdout",
     "output_type": "stream",
     "text": [
      "6\n",
      "5\n",
      "4\n",
      "3\n",
      "2\n",
      "1\n",
      "0\n"
     ]
    }
   ],
   "source": [
    "for i in range(7-1,-1,-1):\n",
    "    print(i)"
   ]
  },
  {
   "cell_type": "code",
   "execution_count": 10,
   "metadata": {},
   "outputs": [
    {
     "ename": "KeyError",
     "evalue": "10",
     "output_type": "error",
     "traceback": [
      "\u001b[1;31m---------------------------------------------------------------------------\u001b[0m",
      "\u001b[1;31mKeyError\u001b[0m                                  Traceback (most recent call last)",
      "Cell \u001b[1;32mIn[10], line 2\u001b[0m\n\u001b[0;32m      1\u001b[0m a\u001b[39m=\u001b[39m{\u001b[39m1\u001b[39m:\u001b[39m5\u001b[39m,\u001b[39m2\u001b[39m:\u001b[39m3\u001b[39m,\u001b[39m7\u001b[39m:\u001b[39m4\u001b[39m,\u001b[39m2\u001b[39m:\u001b[39m0\u001b[39m}\n\u001b[1;32m----> 2\u001b[0m \u001b[39mprint\u001b[39m(a[\u001b[39m10\u001b[39;49m])\n",
      "\u001b[1;31mKeyError\u001b[0m: 10"
     ]
    }
   ],
   "source": [
    "a={1:5,2:3,7:4,2:0}\n",
    "print(a[10])"
   ]
  },
  {
   "cell_type": "code",
   "execution_count": 27,
   "metadata": {},
   "outputs": [
    {
     "name": "stdout",
     "output_type": "stream",
     "text": [
      "3 5\n",
      "first if triggered\n",
      "3 4\n",
      "else triggered\n",
      "3 3\n",
      "else triggered\n",
      "3 3\n",
      "else triggered\n",
      "4 [4, 3, 3, 5]\n"
     ]
    }
   ],
   "source": [
    "class Solution:\n",
    "    def numRescueBoats( people:list , limit:int):\n",
    "        res=0\n",
    "        left=0\n",
    "        right=len(people)-1\n",
    "        people.sort()\n",
    "        db=[]\n",
    "        while left<=right:\n",
    "            print(people[left],people[right])\n",
    "            if people[right]== limit:\n",
    "                #print(res,right)\n",
    "                res+=1\n",
    "                right-=1\n",
    "                db.append(people[right])\n",
    "                print('first if triggered')\n",
    "            elif people[left]+people[right] <= limit:\n",
    "                res+=1\n",
    "                left+=1\n",
    "                right-=1\n",
    "                db.append([people[left],people[right]])\n",
    "                print('if trigerred')\n",
    "            else:\n",
    "                res+=1\n",
    "                right-=1\n",
    "                db.append(people[right])\n",
    "                print('else triggered')\n",
    "        print(res,db)\n",
    "    numRescueBoats([3,5,3,4],5)\n"
   ]
  },
  {
   "cell_type": "code",
   "execution_count": 41,
   "metadata": {},
   "outputs": [
    {
     "name": "stdout",
     "output_type": "stream",
     "text": [
      "9 end\n"
     ]
    }
   ],
   "source": [
    "class Solution:\n",
    "    def zeroFilledSubarray(nums):\n",
    "        left=0\n",
    "        counter=0\n",
    "        res=0\n",
    "        for i in nums:\n",
    "            if i ==0:\n",
    "                counter+=1\n",
    "            else:\n",
    "                if counter!=0:\n",
    "                    while counter >0:\n",
    "                        res+=counter\n",
    "                        counter-=1\n",
    "        if counter!=0:\n",
    "            while counter>0:\n",
    "                res+=counter\n",
    "                counter-=1\n",
    "        print(res,'end')\n",
    "    zeroFilledSubarray([0,0,0,2,0,0])"
   ]
  },
  {
   "cell_type": "code",
   "execution_count": 57,
   "metadata": {},
   "outputs": [
    {
     "name": "stdout",
     "output_type": "stream",
     "text": [
      "Pair\n",
      "high card\n"
     ]
    }
   ],
   "source": [
    "class Solution:\n",
    "    def bestHand(ranks, suits):\n",
    "        db_ranks={}\n",
    "        db_suits={}\n",
    "        for i in range(len(ranks)):\n",
    "            if ranks[i] not in db_ranks.keys():\n",
    "                db_ranks[ranks[i]]=1\n",
    "            else:\n",
    "                db_ranks[ranks[i]]= db_ranks[ranks[i]]+1\n",
    "            if suits[i] not in db_suits.keys():\n",
    "                db_suits[suits[i]]= 1\n",
    "            else:\n",
    "                db_suits[suits[i]]= db_suits[suits[i]]+1\n",
    "                \n",
    "        #print(db_ranks,db_suits.values())\n",
    "        if 5 in db_suits.values():\n",
    "            print('Flush')\n",
    "        if 3 in db_ranks.values() or 4 in db_ranks.values():\n",
    "            print('Three of a Kind')\n",
    "        if 2 in db_ranks.values():\n",
    "            print('Pair')\n",
    "        print('high card')\n",
    "    bestHand([10,10,2,12,9],[\"a\",\"b\",\"c\",\"a\",\"d\"])"
   ]
  },
  {
   "cell_type": "code",
   "execution_count": null,
   "metadata": {},
   "outputs": [],
   "source": [
    "#!/bin/python3\n",
    "\n",
    "import math\n",
    "import os\n",
    "import random\n",
    "import re\n",
    "import sys\n",
    "\n",
    "#\n",
    "# Complete the 'hourglassSum' function below.\n",
    "#\n",
    "# The function is expected to return an INTEGER.\n",
    "# The function accepts 2D_INTEGER_ARRAY arr as parameter.\n",
    "#\n",
    "\n",
    "def hourglassSum(arr):\n",
    "    # Write your code here\n",
    "\n",
    "if __name__ == '__main__':\n",
    "    fptr = open(os.environ['OUTPUT_PATH'], 'w')\n",
    "\n",
    "    arr = []\n",
    "\n",
    "    for _ in range(6):\n",
    "        arr.append(list(map(int, input().rstrip().split())))\n",
    "\n",
    "    result = hourglassSum(arr)\n",
    "\n",
    "    fptr.write(str(result) + '\\n')\n",
    "\n",
    "    fptr.close()\n"
   ]
  },
  {
   "cell_type": "code",
   "execution_count": null,
   "metadata": {},
   "outputs": [],
   "source": [
    "a=[[1, 1, 1, 0, 0 ,0],\n",
    "[0 ,1 ,0 ,0 ,0, 0],\n",
    "[1 ,1, 1 ,0 ,0, 0],\n",
    "[0 ,0 ,2 ,4 ,4, 0],\n",
    "[0 ,0 ,0 ,2, 0 ,0],\n",
    "[0 ,0 ,1 ,2 ,4 ,0]]\n",
    "res=[]\n",
    "for i in range(4):\n",
    "    print(a[i])\n",
    "    for j in range(1,len(a)-1):\n",
    "        suma+=(a[i][j-1]+a[i][j]+a[i][j+1])\n",
    "        suma+=a[i+1][j]\n",
    "        suma+=(a[i+2][j-1]+a[i+2][j]+a[i+2][j+1])\n",
    "        print(suma)\n",
    "        res.append(suma)\n",
    "        suma=0\n",
    "    \n",
    "print(max(res),'return max')"
   ]
  },
  {
   "cell_type": "code",
   "execution_count": 98,
   "metadata": {},
   "outputs": [
    {
     "name": "stdout",
     "output_type": "stream",
     "text": [
      "Called\n",
      "Called\n",
      "5\n"
     ]
    }
   ],
   "source": [
    "arra=[1,2,3,4,5]\n",
    "ref_arra=[2,1,5,3,4]\n",
    "db={}\n",
    "for i in range(len(arra)-1,-1,-1):\n",
    "    if arra[i]!=ref_arra[i]:\n",
    "        arra[i],arra[i-1]=arra[i-1],arra[i]\n",
    "    if arra[i-1] not in db.keys():\n",
    "        db[arra[i-1]]=1\n",
    "        \n",
    "    else:\n",
    "        db[arra[i-1]]=db[arra[i-1]]+1\n",
    "        print('Called')\n",
    "    if db[arra[i-1]]== 3:\n",
    "        print('Too Chaotic')\n",
    "        break\n",
    "\n",
    "\n",
    "\n",
    "print(sum(db.values()))"
   ]
  },
  {
   "cell_type": "code",
   "execution_count": 143,
   "metadata": {},
   "outputs": [
    {
     "data": {
      "text/plain": [
       "5"
      ]
     },
     "execution_count": 143,
     "metadata": {},
     "output_type": "execute_result"
    }
   ],
   "source": [
    "def quick_sort(arr):\n",
    "    if len(arr) <= 1:\n",
    "        return arr\n",
    "    else:\n",
    "        counter=0\n",
    "        pivot = arr[len(arr) // 2]\n",
    "        #left = [x, counter+=1 for x in arr if x < pivot]\n",
    "        left=[]\n",
    "        for x in arr:\n",
    "            if x<pivot:\n",
    "                left.append(x)\n",
    "                counter+=1\n",
    "        #middle = [x for x in arr if x == pivot]\n",
    "        middle=[]\n",
    "        for x in arr:\n",
    "            if x ==pivot:\n",
    "                middle.append(x)\n",
    "                counter+=1\n",
    "        right=[]\n",
    "        for x in arr:\n",
    "            if x>pivot:\n",
    "                right.append(x)\n",
    "                counter+=1\n",
    "        #right = [x for x in arr if x > pivot]\n",
    "        \n",
    "        return [quick_sort(left) + middle + quick_sort(right),counter]\n",
    "#quick_sort([4,3,1,2])\n",
    "\n",
    "def bubble_sort(arr):\n",
    "    n = len(arr)\n",
    "    counter=0\n",
    "    # Traverse through all array elements\n",
    "    for i in range(n):\n",
    "        # Flag to detect if any swaps have been made\n",
    "        swapped = False\n",
    "        # Last i elements are already in place\n",
    "        for j in range(0, n-i-1):\n",
    "            # Swap if the element found is greater than the next element\n",
    "            if arr[j] > arr[j+1]:\n",
    "                arr[j], arr[j+1] = arr[j+1], arr[j]\n",
    "                swapped = True\n",
    "                counter+=1\n",
    "        # If no swaps have been made, the array is already sorted\n",
    "        if not swapped:\n",
    "            break\n",
    "    return counter\n",
    "bubble_sort([4, 3, 1, 2])"
   ]
  },
  {
   "cell_type": "code",
   "execution_count": 155,
   "metadata": {},
   "outputs": [
    {
     "data": {
      "text/plain": [
       "[[1, 2, 3, 4], 3]"
      ]
     },
     "execution_count": 155,
     "metadata": {},
     "output_type": "execute_result"
    }
   ],
   "source": [
    "#arr=[7, 1, 3, 2, 4, 5, 6]\n",
    "def cycle_sort(arr):\n",
    "    counter=0\n",
    "    n = len(arr)\n",
    "    for cycle_start in range(n - 1):\n",
    "        item = arr[cycle_start]\n",
    "        pos = cycle_start\n",
    "        for i in range(cycle_start + 1, n):\n",
    "            if arr[i] < item:\n",
    "                pos += 1\n",
    "        if pos == cycle_start:\n",
    "            continue\n",
    "        while item == arr[pos]:\n",
    "            pos += 1\n",
    "        arr[pos], item = item, arr[pos]\n",
    "        #counter+=1\n",
    "        while pos != cycle_start:\n",
    "            pos = cycle_start\n",
    "            for i in range(cycle_start + 1, n):\n",
    "                if arr[i] < item:\n",
    "                    pos += 1\n",
    "            while item == arr[pos]:\n",
    "                pos += 1\n",
    "            arr[pos], item = item, arr[pos]\n",
    "            counter+=1\n",
    "    return [arr,counter]\n",
    "cycle_sort([4,3,1,2])"
   ]
  },
  {
   "cell_type": "code",
   "execution_count": 59,
   "metadata": {},
   "outputs": [
    {
     "name": "stdout",
     "output_type": "stream",
     "text": [
      "200\n"
     ]
    }
   ],
   "source": [
    "db={}\n",
    "suma=0\n",
    "res=0\n",
    "arr=[0]*10\n",
    "queries=[[1,2,100],[2,5,100],[3,4,100]]\n",
    "for start,finish,fill in queries:\n",
    "    #print(start,finish,fill)\n",
    "    if start-1 not in db:\n",
    "        db[start-1]=fill\n",
    "    else:\n",
    "        db[start-1]=db[start-1]+fill\n",
    "    if finish not in db:\n",
    "        db[finish]= -(fill)\n",
    "    else:\n",
    "        db[finish]= -(fill)\n",
    "\n",
    "\n",
    "for i in range(len(arr)):\n",
    "    if i in db:\n",
    "        suma+=db[i]\n",
    "        arr[i]=suma\n",
    "        if suma>res:\n",
    "            res=suma\n",
    "    else:\n",
    "        arr[i]=suma\n",
    "        if suma>res:\n",
    "            res=suma\n",
    "\n",
    "print(res)\n",
    "\n",
    "#[2,6,8],[3,5,7],[1,8,1],[5,9,15]\n"
   ]
  },
  {
   "cell_type": "code",
   "execution_count": 68,
   "metadata": {},
   "outputs": [
    {
     "name": "stdout",
     "output_type": "stream",
     "text": [
      "[100, 100, 0, 0, -100, -100]\n",
      "200\n"
     ]
    }
   ],
   "source": [
    "n=5\n",
    "arr=[0]*(n+1)\n",
    "#queries=[[2,6,8],[3,5,7],[1,8,1],[5,9,15]]\n",
    "queries=[[1,2,100],[2,5,100],[3,4,100]]\n",
    "for start,end,fill in queries:\n",
    "    arr[start-1]+=fill\n",
    "    arr[end]-=fill\n",
    "print(arr)\n",
    "suma=0\n",
    "maxa=0\n",
    "for i in range(n):\n",
    "    suma+=arr[i]\n",
    "    maxa=max(maxa,suma)\n",
    "print(maxa)\n"
   ]
  },
  {
   "cell_type": "code",
   "execution_count": 51,
   "metadata": {},
   "outputs": [
    {
     "name": "stdout",
     "output_type": "stream",
     "text": [
      "[[0], [0]]\n",
      "5\n",
      "0\n",
      "[[0, 5, 7, 3], [0, 5, 7, 3]]\n"
     ]
    }
   ],
   "source": [
    "def dynamicArray(n, queries):\n",
    "    arr=[[0]]*n\n",
    "    lastans=0\n",
    "    print(arr)\n",
    "    for seq,x,y in queries:\n",
    "        xor=(x^lastans)%n\n",
    "        #print(xor)\n",
    "        if seq==1:\n",
    "            arr[xor].append(y)\n",
    "        else:\n",
    "            lastans=arr[0][xor]#nesto n e valja\n",
    "            print(lastans)\n",
    "    print(arr)\n",
    "\n",
    "dynamicArray(2,[[1,0,5],[1,1,7],[1,0,3],[2,1,0],[2,1,1]])"
   ]
  },
  {
   "cell_type": "code",
   "execution_count": 31,
   "metadata": {},
   "outputs": [
    {
     "name": "stdout",
     "output_type": "stream",
     "text": [
      "[[1, 2, 3], [0, 1, 2, 3, 4, 5, 6, 7]]\n",
      "[[1, 2, 3, 1], [0, 1, 2, 3, 4, 5, 6, 7]]\n"
     ]
    }
   ],
   "source": [
    "a=[[1,2,3],[0,1,2,3,4,5,6,7]]\n",
    "print(a)\n",
    "a[0].append(1)\n",
    "print(a)"
   ]
  },
  {
   "cell_type": "code",
   "execution_count": 3,
   "metadata": {},
   "outputs": [
    {
     "name": "stdout",
     "output_type": "stream",
     "text": [
      "[[0, 0, 0, 0, 0, 0, 0, 0], [5, -5, -10, 0, 0, -10, -5, 5], [5, 10, 10, -20, -20, 10, 10, 5], [0, 0, 0, 20, 20, 0, 0, 0], [5, 5, 10, 25, 25, 10, 5, 5], [10, 10, 20, 30, 30, 20, 10, 10], [50, 50, 50, 50, 50, 50, 50, 50], [0, 0, 0, 0, 0, 0, 0, 0]]\n"
     ]
    }
   ],
   "source": [
    "pawntablew = [\n",
    "[ 0,  0,  0,  0,  0,  0,  0,  0],\n",
    "[50, 50, 50, 50, 50, 50, 50, 50],\n",
    "[10, 10, 20, 30, 30, 20, 10, 10],\n",
    "[ 5,  5, 10, 25, 25, 10,  5,  5],\n",
    "[ 0,  0,  0, 20, 20,  0,  0,  0],\n",
    "[ 5, 10, 10,-20,-20, 10, 10,  5],\n",
    "[ 5, -5,-10,  0,  0,-10, -5,  5],\n",
    "[ 0,  0,  0,  0,  0,  0,  0,  0]]\n",
    "\n",
    "pawntableTest=[]\n",
    "for i in range(len(pawntablew)-1,-1,-1):\n",
    "    pawntableTest.append(pawntablew[i])\n",
    "print(pawntableTest)"
   ]
  },
  {
   "cell_type": "code",
   "execution_count": 18,
   "metadata": {},
   "outputs": [
    {
     "name": "stdout",
     "output_type": "stream",
     "text": [
      "[[-30, -40, -40, -50, -50, -40, -40, -30], [-30, -40, -40, -50, -50, -40, -40, -30], [-30, -40, -40, -50, -50, -40, -40, -30], [-30, -40, -40, -50, -50, -40, -40, -30], [-20, -30, -30, -40, -40, -30, -30, -20], [-10, -20, -20, -20, -20, -20, -20, -10], [20, 20, 0, 0, 0, 0, 20, 20], [20, 30, 10, 0, 0, 10, 30, 20]]\n"
     ]
    }
   ],
   "source": [
    "bishopsScoresw =[\n",
    "[ 20, 30, 10,  0,  0, 10, 30, 20],\n",
    "[ 20, 20,  0,  0,  0,  0, 20, 20],\n",
    "[-10,-20,-20,-20,-20,-20,-20,-10],\n",
    "[-20,-30,-30,-40,-40,-30,-30,-20],\n",
    "[-30,-40,-40,-50,-50,-40,-40,-30],\n",
    "[-30,-40,-40,-50,-50,-40,-40,-30],\n",
    "[-30,-40,-40,-50,-50,-40,-40,-30],\n",
    "[-30,-40,-40,-50,-50,-40,-40,-30]]\n",
    "pawnScoresb=[bishopsScoresw[x] for x in range(len(bishopsScoresw)-1,-1,-1)]\n",
    "print(pawnScoresb)"
   ]
  }
 ],
 "metadata": {
  "kernelspec": {
   "display_name": "Python 3",
   "language": "python",
   "name": "python3"
  },
  "language_info": {
   "codemirror_mode": {
    "name": "ipython",
    "version": 3
   },
   "file_extension": ".py",
   "mimetype": "text/x-python",
   "name": "python",
   "nbconvert_exporter": "python",
   "pygments_lexer": "ipython3",
   "version": "3.11.0"
  },
  "orig_nbformat": 4,
  "vscode": {
   "interpreter": {
    "hash": "bf9363b1933d6e3e3f4fdd3dc4d353933e361c1e448f53ad1aa282d16c81c7fa"
   }
  }
 },
 "nbformat": 4,
 "nbformat_minor": 2
}
